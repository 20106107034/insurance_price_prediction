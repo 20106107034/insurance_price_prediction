{
 "cells": [
  {
   "cell_type": "code",
   "execution_count": 1,
   "id": "a04c3200",
   "metadata": {},
   "outputs": [],
   "source": [
    "from tkinter import *\n",
    "import joblib\n",
    "\n",
    "def show_entry():\n",
    "    \n",
    "    p1 = float(e1.get())\n",
    "    p2 = float(e2.get())\n",
    "    p3 = float(e3.get())\n",
    "    p4 = float(e4.get())\n",
    "    p5 = float(e5.get())\n",
    "    p6 = float(e6.get())\n",
    "    \n",
    "    model = joblib.load('Model_joblib_gr')\n",
    "    result= model.predict([[p1,p2,p3,p4,p5,p6]])\n",
    "    \n",
    "    Label(master,text=\"Insurance charge\").grid(row=7)\n",
    "    Label(master,text=result).grid(row=7,column=1)\n",
    "    \n",
    "\n",
    "\n",
    "master=Tk()\n",
    "master.title('Insurance charge prediction')\n",
    "Label(master,text=' Insurance  cost  Prediction ',bg='white',\n",
    "            fg='blue').grid(row=0,columnspan=3)\n",
    "Label(master,text=\"Enter Your age\").grid(row=1)\n",
    "Label(master,text=\"Male or female [0/1]\").grid(row=2)\n",
    "Label(master,text=\"Enter Your bmi value\").grid(row=3)\n",
    "Label(master,text=\"Enter Number of children\").grid(row=4)\n",
    "Label(master,text=\"smoker Yes/No\").grid(row=5,columns=1)\n",
    "Label(master,text=\"Enter Your region [1-4]\").grid(row=6)\n",
    "\n",
    "e1 = Entry(master)\n",
    "e2 = Entry(master)\n",
    "e3 = Entry(master)\n",
    "e4 = Entry(master)\n",
    "e5 = Entry(master)\n",
    "e6 = Entry(master)\n",
    "\n",
    "e1.grid(row=1,column=1)\n",
    "e2.grid(row=2,column=1)\n",
    "e3.grid(row=3,column=1)\n",
    "e4.grid(row=4,column=1)\n",
    "e5.grid(row=5,column=1)\n",
    "e6.grid(row=6,column=1)\n",
    "\n",
    "#master.mainloop()\n",
    "Button(master,text=\"Predict\",command=show_entry).grid()\n",
    "mainloop()"
   ]
  },
  {
   "cell_type": "code",
   "execution_count": null,
   "id": "64cbc25b",
   "metadata": {},
   "outputs": [],
   "source": []
  }
 ],
 "metadata": {
  "kernelspec": {
   "display_name": "Python 3 (ipykernel)",
   "language": "python",
   "name": "python3"
  },
  "language_info": {
   "codemirror_mode": {
    "name": "ipython",
    "version": 3
   },
   "file_extension": ".py",
   "mimetype": "text/x-python",
   "name": "python",
   "nbconvert_exporter": "python",
   "pygments_lexer": "ipython3",
   "version": "3.10.6"
  }
 },
 "nbformat": 4,
 "nbformat_minor": 5
}
